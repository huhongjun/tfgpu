{
 "cells": [
  {
   "cell_type": "markdown",
   "metadata": {},
   "source": [
    "## 1. ipython体验"
   ]
  },
  {
   "cell_type": "code",
   "execution_count": 4,
   "metadata": {},
   "outputs": [],
   "source": [
    "# 显示notebook magic命令帮助\n",
    "%magic"
   ]
  },
  {
   "cell_type": "code",
   "execution_count": 5,
   "metadata": {},
   "outputs": [],
   "source": [
    "# IPython -- An enhanced Interactive Python - Quick Reference Card\n",
    "%quickref\n"
   ]
  },
  {
   "cell_type": "code",
   "execution_count": null,
   "metadata": {},
   "outputs": [],
   "source": [
    "%alias idir dir -l\n",
    "%alias ipwd pwd"
   ]
  },
  {
   "cell_type": "code",
   "execution_count": 8,
   "metadata": {
    "collapsed": true
   },
   "outputs": [
    {
     "name": "stdout",
     "output_type": "stream",
     "text": [
      "总用量 136\r\n",
      "-rwxrwxrwx 1 huhongjun huhongjun  1692 Oct 29 00:26 DevCMD-Anaconda.lnk\r\n",
      "-rwxrwxrwx 1 huhongjun huhongjun   895 Nov 17 12:03 DevCMD-JavaPythonNodeJS.bat\r\n",
      "-rwxrwxrwx 1 huhongjun huhongjun   138 Nov 17 22:37 dev.txt\r\n",
      "-rwxrwxrwx 1 huhongjun huhongjun   937 Nov 16 18:03 gpu.py\r\n",
      "-rwxrwxrwx 1 huhongjun huhongjun   136 Nov 14 10:32 GPU.txt\r\n",
      "-rwxrwxrwx 1 huhongjun huhongjun  4884 Nov 18 02:49 KerasGuide.ipynb\r\n",
      "-rwxrwxrwx 1 huhongjun huhongjun  2619 Nov 18 03:04 minist.ipynb\r\n",
      "-rwxrwxrwx 1 huhongjun huhongjun   580 Nov 14 12:04 minist.py\r\n",
      "-rwxrwxrwx 1 huhongjun huhongjun 40025 Nov 18 03:03 minist-tutorial.ipynb\r\n",
      "-rwxrwxrwx 1 huhongjun huhongjun   985 Nov 18 03:06 requirements\r\n",
      "-rwxrwxrwx 1 huhongjun huhongjun 46240 Mar 14 01:36 tfgpu.ipynb\r\n",
      "-rwxrwxrwx 1 huhongjun huhongjun   180 Nov 14 11:47 tftest.py\r\n",
      "-rwxrwxrwx 1 huhongjun huhongjun   486 Mar  6 17:42 开发记录.txt\r\n"
     ]
    }
   ],
   "source": [
    "%idir"
   ]
  },
  {
   "cell_type": "code",
   "execution_count": 12,
   "metadata": {},
   "outputs": [
    {
     "name": "stdout",
     "output_type": "stream",
     "text": [
      "# packages in environment at /home/huhongjun/anaconda2/envs/tfgpu-1-10:\n",
      "#\n",
      "# Name                    Version                   Build  Channel\n",
      "# conda environments:\n",
      "#\n",
      "base                     /home/huhongjun/anaconda2\n",
      "faceswap                 /home/huhongjun/anaconda2/envs/faceswap\n",
      "lidar                    /home/huhongjun/anaconda2/envs/lidar\n",
      "tfgpu-1-10            *  /home/huhongjun/anaconda2/envs/tfgpu-1-10\n",
      "xgboost-gpu              /home/huhongjun/anaconda2/envs/xgboost-gpu\n",
      "\n"
     ]
    }
   ],
   "source": [
    "!conda list envs\n",
    "!conda env list"
   ]
  },
  {
   "cell_type": "code",
   "execution_count": 1,
   "metadata": {},
   "outputs": [
    {
     "name": "stdout",
     "output_type": "stream",
     "text": [
      "DevCMD-Anaconda.lnk\t\t minist.ipynb\r\n",
      "DevCMD-JavaPythonNodeJS.bat\t minist.py\r\n",
      "dev.txt\t\t\t\t minist-tutorial.ipynb\r\n",
      "gpu.py\t\t\t\t requirements\r\n",
      "GPU.txt\t\t\t\t tensorflow-gpu-tutorial.ipynb\r\n",
      "jupyter-notebook-tutorial.ipynb  tftest.py\r\n",
      "KerasGuide.ipynb\t\t 开发记录.txt\r\n"
     ]
    }
   ],
   "source": [
    "!ls"
   ]
  },
  {
   "cell_type": "code",
   "execution_count": null,
   "metadata": {},
   "outputs": [],
   "source": [
    "!pip install ***"
   ]
  }
 ],
 "metadata": {
  "kernelspec": {
   "display_name": "Python 3",
   "language": "python",
   "name": "python3"
  },
  "language_info": {
   "codemirror_mode": {
    "name": "ipython",
    "version": 3
   },
   "file_extension": ".py",
   "mimetype": "text/x-python",
   "name": "python",
   "nbconvert_exporter": "python",
   "pygments_lexer": "ipython3",
   "version": "3.6.6"
  }
 },
 "nbformat": 4,
 "nbformat_minor": 2
}
